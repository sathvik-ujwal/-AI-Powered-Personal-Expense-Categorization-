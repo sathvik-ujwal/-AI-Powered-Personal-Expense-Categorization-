{
  "nbformat": 4,
  "nbformat_minor": 0,
  "metadata": {
    "colab": {
      "provenance": [],
      "authorship_tag": "ABX9TyObO8ZZ/4wTRHOcFoCChR6E",
      "include_colab_link": true
    },
    "kernelspec": {
      "name": "python3",
      "display_name": "Python 3"
    },
    "language_info": {
      "name": "python"
    }
  },
  "cells": [
    {
      "cell_type": "markdown",
      "metadata": {
        "id": "view-in-github",
        "colab_type": "text"
      },
      "source": [
        "<a href=\"https://colab.research.google.com/github/sathvik-ujwal/-AI-Powered-Personal-Expense-Categorization-/blob/main/expense_categorization_pynb.ipynb\" target=\"_parent\"><img src=\"https://colab.research.google.com/assets/colab-badge.svg\" alt=\"Open In Colab\"/></a>"
      ]
    },
    {
      "cell_type": "code",
      "source": [
        "!pip install catboost\n"
      ],
      "metadata": {
        "colab": {
          "base_uri": "https://localhost:8080/"
        },
        "id": "UxmQIvLt6uLz",
        "outputId": "8713f5c3-5b50-476c-d6bb-b6316781ee22"
      },
      "execution_count": 2,
      "outputs": [
        {
          "output_type": "stream",
          "name": "stdout",
          "text": [
            "Collecting catboost\n",
            "  Downloading catboost-1.2.8-cp311-cp311-manylinux2014_x86_64.whl.metadata (1.2 kB)\n",
            "Requirement already satisfied: graphviz in /usr/local/lib/python3.11/dist-packages (from catboost) (0.21)\n",
            "Requirement already satisfied: matplotlib in /usr/local/lib/python3.11/dist-packages (from catboost) (3.10.0)\n",
            "Requirement already satisfied: numpy<3.0,>=1.16.0 in /usr/local/lib/python3.11/dist-packages (from catboost) (2.0.2)\n",
            "Requirement already satisfied: pandas>=0.24 in /usr/local/lib/python3.11/dist-packages (from catboost) (2.2.2)\n",
            "Requirement already satisfied: scipy in /usr/local/lib/python3.11/dist-packages (from catboost) (1.15.3)\n",
            "Requirement already satisfied: plotly in /usr/local/lib/python3.11/dist-packages (from catboost) (5.24.1)\n",
            "Requirement already satisfied: six in /usr/local/lib/python3.11/dist-packages (from catboost) (1.17.0)\n",
            "Requirement already satisfied: python-dateutil>=2.8.2 in /usr/local/lib/python3.11/dist-packages (from pandas>=0.24->catboost) (2.9.0.post0)\n",
            "Requirement already satisfied: pytz>=2020.1 in /usr/local/lib/python3.11/dist-packages (from pandas>=0.24->catboost) (2025.2)\n",
            "Requirement already satisfied: tzdata>=2022.7 in /usr/local/lib/python3.11/dist-packages (from pandas>=0.24->catboost) (2025.2)\n",
            "Requirement already satisfied: contourpy>=1.0.1 in /usr/local/lib/python3.11/dist-packages (from matplotlib->catboost) (1.3.2)\n",
            "Requirement already satisfied: cycler>=0.10 in /usr/local/lib/python3.11/dist-packages (from matplotlib->catboost) (0.12.1)\n",
            "Requirement already satisfied: fonttools>=4.22.0 in /usr/local/lib/python3.11/dist-packages (from matplotlib->catboost) (4.58.4)\n",
            "Requirement already satisfied: kiwisolver>=1.3.1 in /usr/local/lib/python3.11/dist-packages (from matplotlib->catboost) (1.4.8)\n",
            "Requirement already satisfied: packaging>=20.0 in /usr/local/lib/python3.11/dist-packages (from matplotlib->catboost) (24.2)\n",
            "Requirement already satisfied: pillow>=8 in /usr/local/lib/python3.11/dist-packages (from matplotlib->catboost) (11.2.1)\n",
            "Requirement already satisfied: pyparsing>=2.3.1 in /usr/local/lib/python3.11/dist-packages (from matplotlib->catboost) (3.2.3)\n",
            "Requirement already satisfied: tenacity>=6.2.0 in /usr/local/lib/python3.11/dist-packages (from plotly->catboost) (8.5.0)\n",
            "Downloading catboost-1.2.8-cp311-cp311-manylinux2014_x86_64.whl (99.2 MB)\n",
            "\u001b[2K   \u001b[90m━━━━━━━━━━━━━━━━━━━━━━━━━━━━━━━━━━━━━━━━\u001b[0m \u001b[32m99.2/99.2 MB\u001b[0m \u001b[31m8.2 MB/s\u001b[0m eta \u001b[36m0:00:00\u001b[0m\n",
            "\u001b[?25hInstalling collected packages: catboost\n",
            "Successfully installed catboost-1.2.8\n"
          ]
        }
      ]
    },
    {
      "cell_type": "code",
      "execution_count": 18,
      "metadata": {
        "id": "ZyLGCPKK7BXv",
        "colab": {
          "base_uri": "https://localhost:8080/"
        },
        "outputId": "5c4f9516-5891-4843-ba9a-4d2c485271e1"
      },
      "outputs": [
        {
          "output_type": "stream",
          "name": "stdout",
          "text": [
            "Drive already mounted at /content/drive; to attempt to forcibly remount, call drive.mount(\"/content/drive\", force_remount=True).\n"
          ]
        }
      ],
      "source": [
        "import pandas as pd\n",
        "import numpy as np\n",
        "import re\n",
        "import torch\n",
        "from sklearn.model_selection import train_test_split\n",
        "from sklearn.metrics import classification_report\n",
        "from sklearn.feature_extraction.text import TfidfVectorizer\n",
        "from xgboost import XGBClassifier\n",
        "from transformers import (\n",
        "    AutoTokenizer,\n",
        "    AutoModelForSequenceClassification,\n",
        "    Trainer,\n",
        "    TrainingArguments,\n",
        ")\n",
        "from sklearn.ensemble import StackingClassifier\n",
        "from sklearn.linear_model import LogisticRegression\n",
        "from sklearn.pipeline import Pipeline\n",
        "from sklearn.ensemble import RandomForestClassifier\n",
        "from catboost import CatBoostClassifier\n",
        "from sklearn.metrics import accuracy_score\n",
        "from sklearn.model_selection import GridSearchCV\n",
        "from google.colab import drive\n",
        "import os\n",
        "drive.mount('/content/drive')\n",
        "save_dir = '/content/drive/MyDrive/expense_categorization/'\n",
        "os.makedirs(save_dir, exist_ok=True)\n",
        "import warnings\n",
        "warnings.filterwarnings('ignore')"
      ]
    },
    {
      "cell_type": "code",
      "source": [
        "df = pd.read_csv('complex_transactions_faker1.csv')\n",
        "print(df.head(10))"
      ],
      "metadata": {
        "colab": {
          "base_uri": "https://localhost:8080/"
        },
        "id": "x93wn_fI7Pao",
        "outputId": "25ccd278-2a9f-4558-977a-0076a694ddba"
      },
      "execution_count": 4,
      "outputs": [
        {
          "output_type": "stream",
          "name": "stdout",
          "text": [
            "   transaction_id  user_id            date_time                city    amount  \\\n",
            "0               1     8936  2024-07-25 04:35:15               Delhi  14861.19   \n",
            "1               2     3612  2025-03-06 01:47:11              Jaipur  13172.75   \n",
            "2               3     5515  2024-11-12 03:03:06               Delhi   7134.89   \n",
            "3               4     2046  2025-04-10 10:58:50  Thiruvananthapuram   1347.28   \n",
            "4               5     1140  2025-05-01 15:41:25              Mumbai   7551.88   \n",
            "5               6     5978  2025-05-03 12:12:47           Bengaluru   2469.53   \n",
            "6               7     8752  2025-02-07 16:07:39              Bhopal   1892.35   \n",
            "7               8      917  2025-02-23 06:08:03             Chennai  11360.52   \n",
            "8               9     5156  2025-05-21 15:02:43             Chennai  18886.74   \n",
            "9              10     9578  2024-09-04 18:44:05           Ahmedabad  15027.29   \n",
            "\n",
            "  payment_method                  merchant  \\\n",
            "0  Mobile Wallet          Maharaj and Sons   \n",
            "1  Mobile Wallet  Chaudry, Chahal and Sami   \n",
            "2            UPI           Kamdar and Sons   \n",
            "3     Debit Card                   Sen PLC   \n",
            "4           Cash               Ahuja-Dutta   \n",
            "5    Credit Card                  Oak-Mall   \n",
            "6     NetBanking                  Kale LLC   \n",
            "7         Cheque                   Rai Inc   \n",
            "8           Cash                   Laborum   \n",
            "9  Mobile Wallet   Lalla, Bassi and Sharaf   \n",
            "\n",
            "                                 description  category  \n",
            "0    Amazon purchase of tempore items: culpa  Shopping  \n",
            "1    Amazon  purchasee of et items: deserunt  Shopping  \n",
            "2  Amazon purchase of aliquid items: aliquam  Shopping  \n",
            "3       Bala, Issac and Saini shopping spree  Shopping  \n",
            "4                            Monthly payment  Shopping  \n",
            "5                   Grocery haul: voluptatem  Shopping  \n",
            "6          Grocery shopping at {supermarket}  Shopping  \n",
            "7                       Purchase at corporis  Shopping  \n",
            "8                         Transfer to magnam  Shopping  \n",
            "9          Grocery shopping at {supermarket}  Shopping  \n"
          ]
        }
      ]
    },
    {
      "cell_type": "code",
      "source": [
        "df['category'].unique()"
      ],
      "metadata": {
        "colab": {
          "base_uri": "https://localhost:8080/"
        },
        "id": "9lC2Dk-L3tzm",
        "outputId": "280cfce0-ed98-486e-96ec-c2bc06769284"
      },
      "execution_count": 5,
      "outputs": [
        {
          "output_type": "execute_result",
          "data": {
            "text/plain": [
              "array(['Shopping', 'Food & Dining', 'Transportation', 'Travel',\n",
              "       'Bills & Utilities', 'Entertainment', 'Healthcare', 'Housing',\n",
              "       'Personal Care', 'Insurance', 'Education', 'Financial Obligations',\n",
              "       'Miscellaneous', 'Taxes', 'Charity/Donations', 'Pets', 'Childcare'],\n",
              "      dtype=object)"
            ]
          },
          "metadata": {},
          "execution_count": 5
        }
      ]
    },
    {
      "cell_type": "code",
      "source": [
        "category_counts = df['category'].value_counts()\n",
        "print(\"Category counts:\\n\", category_counts)"
      ],
      "metadata": {
        "colab": {
          "base_uri": "https://localhost:8080/"
        },
        "id": "53T8vGRaSc2Z",
        "outputId": "ac98da3f-62c4-4d82-bc33-2c9abfc20306"
      },
      "execution_count": 6,
      "outputs": [
        {
          "output_type": "stream",
          "name": "stdout",
          "text": [
            "Category counts:\n",
            " category\n",
            "Shopping                 20000\n",
            "Food & Dining            18000\n",
            "Transportation           12000\n",
            "Bills & Utilities         9000\n",
            "Travel                    8000\n",
            "Entertainment             8000\n",
            "Healthcare                5000\n",
            "Housing                   5000\n",
            "Personal Care             4000\n",
            "Insurance                 3000\n",
            "Education                 3000\n",
            "Financial Obligations     3000\n",
            "Miscellaneous             2000\n",
            "Taxes                     2000\n",
            "Charity/Donations         1000\n",
            "Pets                      1000\n",
            "Childcare                 1000\n",
            "Name: count, dtype: int64\n"
          ]
        }
      ]
    },
    {
      "cell_type": "code",
      "source": [
        "def clean_text(text):\n",
        "    if not isinstance(text, str):\n",
        "        text = str(text)  # Ensure text is string\n",
        "    text = text.lower()\n",
        "    text = re.sub(r'[^a-z0-9\\s]', ' ', text)\n",
        "    text = re.sub(r'\\s+', ' ', text).strip()\n",
        "    return text"
      ],
      "metadata": {
        "id": "JrUUoiVZ8SX9"
      },
      "execution_count": 7,
      "outputs": []
    },
    {
      "cell_type": "code",
      "source": [
        "df['clean_desc'] = df['description'].apply(clean_text)\n",
        "labels = df['category'].astype('category')\n",
        "df['label'] = labels.cat.codes\n",
        "label_mapping = dict(enumerate(labels.cat.categories))"
      ],
      "metadata": {
        "id": "3AbMonEn8eej"
      },
      "execution_count": 8,
      "outputs": []
    },
    {
      "cell_type": "code",
      "source": [
        "print(label_mapping)"
      ],
      "metadata": {
        "colab": {
          "base_uri": "https://localhost:8080/"
        },
        "id": "TFCpJMzcU6K4",
        "outputId": "2943a17d-9b7b-4294-9791-532fb7b985bd"
      },
      "execution_count": 9,
      "outputs": [
        {
          "output_type": "stream",
          "name": "stdout",
          "text": [
            "{0: 'Bills & Utilities', 1: 'Charity/Donations', 2: 'Childcare', 3: 'Education', 4: 'Entertainment', 5: 'Financial Obligations', 6: 'Food & Dining', 7: 'Healthcare', 8: 'Housing', 9: 'Insurance', 10: 'Miscellaneous', 11: 'Personal Care', 12: 'Pets', 13: 'Shopping', 14: 'Taxes', 15: 'Transportation', 16: 'Travel'}\n"
          ]
        }
      ]
    },
    {
      "cell_type": "code",
      "source": [
        "X_train, X_test, y_train, y_test = train_test_split(\n",
        "    df['clean_desc'], df['label'], test_size=0.2, random_state=42, stratify=df['label']\n",
        ")"
      ],
      "metadata": {
        "id": "42HmR4BDEGPh"
      },
      "execution_count": 10,
      "outputs": []
    },
    {
      "cell_type": "code",
      "source": [
        "tfidf = TfidfVectorizer(ngram_range=(1,2), max_features=10000)\n",
        "X_train_tfidf = tfidf.fit_transform(X_train)\n",
        "X_test_tfidf = tfidf.transform(X_test)\n",
        "\n",
        "xgb = XGBClassifier(n_estimators=100, use_label_encoder=False, eval_metric='mlogloss')\n",
        "rf = RandomForestClassifier(n_estimators=100, random_state=42)\n",
        "catboost = CatBoostClassifier(iterations=100, random_state=42, verbose=0)\n",
        "\n",
        "xgb.fit(X_train_tfidf, y_train)\n",
        "rf.fit(X_train_tfidf, y_train)\n",
        "catboost.fit(X_train_tfidf, y_train)\n",
        "\n",
        "y_pred_xgb = xgb.predict(X_test_tfidf)\n",
        "y_pred_rf = rf.predict(X_test_tfidf)\n",
        "y_pred_catboost = catboost.predict(X_test_tfidf)"
      ],
      "metadata": {
        "id": "CeH0nIECETc4",
        "colab": {
          "base_uri": "https://localhost:8080/"
        },
        "outputId": "8cfcab79-4bce-43ac-9fe2-139ca11f112c"
      },
      "execution_count": 11,
      "outputs": [
        {
          "output_type": "stream",
          "name": "stderr",
          "text": [
            "/usr/local/lib/python3.11/dist-packages/xgboost/core.py:158: UserWarning: [09:02:14] WARNING: /workspace/src/learner.cc:740: \n",
            "Parameters: { \"use_label_encoder\" } are not used.\n",
            "\n",
            "  warnings.warn(smsg, UserWarning)\n"
          ]
        }
      ]
    },
    {
      "cell_type": "code",
      "source": [
        "\n",
        "\n",
        "print(\"=== XGBoost Classification Report ===\")\n",
        "print(classification_report(y_test, y_pred_xgb, target_names=labels.cat.categories))\n",
        "accuracy_xgb = accuracy_score(y_test, y_pred_xgb)\n",
        "\n",
        "print(\"=== Random Forest Classification Report ===\")\n",
        "print(classification_report(y_test, y_pred_rf, target_names=labels.cat.categories))\n",
        "accuracy_rf = accuracy_score(y_test, y_pred_rf)\n",
        "\n",
        "print(\"=== CatBoost Classification Report ===\")\n",
        "print(classification_report(y_test, y_pred_catboost, target_names=labels.cat.categories))\n",
        "accuracy_catboost = accuracy_score(y_test, y_pred_catboost)"
      ],
      "metadata": {
        "id": "U6PDKoEqEczJ",
        "outputId": "ccd5f94a-13dc-47d0-b1d9-9a5dddc7a307",
        "colab": {
          "base_uri": "https://localhost:8080/"
        }
      },
      "execution_count": 12,
      "outputs": [
        {
          "output_type": "stream",
          "name": "stdout",
          "text": [
            "=== XGBoost Classification Report ===\n",
            "                       precision    recall  f1-score   support\n",
            "\n",
            "    Bills & Utilities       0.97      0.79      0.87      1800\n",
            "    Charity/Donations       0.98      0.79      0.87       200\n",
            "            Childcare       0.97      0.71      0.82       200\n",
            "            Education       0.97      0.71      0.82       600\n",
            "        Entertainment       0.99      0.81      0.89      1600\n",
            "Financial Obligations       1.00      0.79      0.88       600\n",
            "        Food & Dining       0.63      0.89      0.74      3600\n",
            "           Healthcare       0.95      0.72      0.82      1000\n",
            "              Housing       0.98      0.81      0.89      1000\n",
            "            Insurance       0.99      0.77      0.87       600\n",
            "        Miscellaneous       0.99      0.70      0.82       400\n",
            "        Personal Care       0.96      0.74      0.84       800\n",
            "                 Pets       0.99      0.76      0.86       200\n",
            "             Shopping       0.70      0.89      0.78      4000\n",
            "                Taxes       0.99      0.82      0.90       400\n",
            "       Transportation       0.95      0.80      0.87      2400\n",
            "               Travel       0.98      0.79      0.87      1600\n",
            "\n",
            "             accuracy                           0.82     21000\n",
            "            macro avg       0.94      0.78      0.85     21000\n",
            "         weighted avg       0.86      0.82      0.83     21000\n",
            "\n",
            "=== Random Forest Classification Report ===\n",
            "                       precision    recall  f1-score   support\n",
            "\n",
            "    Bills & Utilities       0.91      0.80      0.85      1800\n",
            "    Charity/Donations       0.92      0.78      0.85       200\n",
            "            Childcare       0.94      0.72      0.82       200\n",
            "            Education       0.92      0.71      0.80       600\n",
            "        Entertainment       0.90      0.81      0.85      1600\n",
            "Financial Obligations       0.91      0.80      0.85       600\n",
            "        Food & Dining       0.74      0.84      0.79      3600\n",
            "           Healthcare       0.90      0.72      0.80      1000\n",
            "              Housing       0.90      0.81      0.85      1000\n",
            "            Insurance       0.94      0.78      0.85       600\n",
            "        Miscellaneous       0.83      0.74      0.79       400\n",
            "        Personal Care       0.90      0.75      0.81       800\n",
            "                 Pets       0.92      0.77      0.84       200\n",
            "             Shopping       0.70      0.89      0.78      4000\n",
            "                Taxes       0.94      0.83      0.88       400\n",
            "       Transportation       0.88      0.82      0.85      2400\n",
            "               Travel       0.89      0.80      0.84      1600\n",
            "\n",
            "             accuracy                           0.82     21000\n",
            "            macro avg       0.88      0.79      0.83     21000\n",
            "         weighted avg       0.83      0.82      0.82     21000\n",
            "\n",
            "=== CatBoost Classification Report ===\n",
            "                       precision    recall  f1-score   support\n",
            "\n",
            "    Bills & Utilities       0.99      0.78      0.87      1800\n",
            "    Charity/Donations       0.99      0.73      0.84       200\n",
            "            Childcare       1.00      0.67      0.80       200\n",
            "            Education       1.00      0.67      0.80       600\n",
            "        Entertainment       0.98      0.79      0.87      1600\n",
            "Financial Obligations       1.00      0.76      0.86       600\n",
            "        Food & Dining       0.61      0.88      0.72      3600\n",
            "           Healthcare       1.00      0.68      0.81      1000\n",
            "              Housing       0.99      0.79      0.88      1000\n",
            "            Insurance       0.97      0.75      0.85       600\n",
            "        Miscellaneous       1.00      0.67      0.80       400\n",
            "        Personal Care       0.71      0.72      0.71       800\n",
            "                 Pets       0.99      0.76      0.86       200\n",
            "             Shopping       0.68      0.90      0.78      4000\n",
            "                Taxes       0.97      0.79      0.87       400\n",
            "       Transportation       0.94      0.79      0.86      2400\n",
            "               Travel       0.99      0.76      0.86      1600\n",
            "\n",
            "             accuracy                           0.81     21000\n",
            "            macro avg       0.93      0.76      0.83     21000\n",
            "         weighted avg       0.85      0.81      0.81     21000\n",
            "\n"
          ]
        }
      ]
    },
    {
      "cell_type": "code",
      "source": [
        "from sklearn.model_selection import GridSearchCV\n",
        "\n",
        "param_grid_xgb = {\n",
        "    'n_estimators': [50, 100, 200],\n",
        "    'max_depth': [3, 5, 7],\n",
        "    'learning_rate': [0.01, 0.1, 0.2]\n",
        "}\n",
        "grid_xgb = GridSearchCV(\n",
        "    XGBClassifier(use_label_encoder=False, eval_metric='mlogloss'),\n",
        "    param_grid_xgb,\n",
        "    cv=3,\n",
        "    scoring='accuracy',\n",
        "    verbose=3\n",
        ")"
      ],
      "metadata": {
        "id": "cSkshFREUREW"
      },
      "execution_count": 19,
      "outputs": []
    },
    {
      "cell_type": "code",
      "source": [
        "grid_xgb.fit(X_train_tfidf, y_train)\n",
        "print(\"Best parameters for XGBoost:\", grid_xgb.best_params_)\n",
        "print(\"Best cross-validation accuracy for XGBoost:\", grid_xgb.best_score_)"
      ],
      "metadata": {
        "colab": {
          "base_uri": "https://localhost:8080/"
        },
        "id": "BR8OKbMqEKxv",
        "outputId": "a6c73dca-1898-4c70-8b13-2bef23003685"
      },
      "execution_count": 20,
      "outputs": [
        {
          "output_type": "stream",
          "name": "stdout",
          "text": [
            "Fitting 3 folds for each of 27 candidates, totalling 81 fits\n",
            "[CV 1/3] END learning_rate=0.01, max_depth=3, n_estimators=50;, score=0.784 total time=  20.0s\n",
            "[CV 2/3] END learning_rate=0.01, max_depth=3, n_estimators=50;, score=0.783 total time=  21.4s\n",
            "[CV 3/3] END learning_rate=0.01, max_depth=3, n_estimators=50;, score=0.782 total time=  19.9s\n",
            "[CV 1/3] END learning_rate=0.01, max_depth=3, n_estimators=100;, score=0.791 total time=  41.7s\n",
            "[CV 2/3] END learning_rate=0.01, max_depth=3, n_estimators=100;, score=0.793 total time=  42.3s\n",
            "[CV 3/3] END learning_rate=0.01, max_depth=3, n_estimators=100;, score=0.786 total time=  41.8s\n",
            "[CV 1/3] END learning_rate=0.01, max_depth=3, n_estimators=200;, score=0.804 total time= 1.5min\n",
            "[CV 2/3] END learning_rate=0.01, max_depth=3, n_estimators=200;, score=0.802 total time= 1.4min\n",
            "[CV 3/3] END learning_rate=0.01, max_depth=3, n_estimators=200;, score=0.796 total time= 1.4min\n",
            "[CV 1/3] END learning_rate=0.01, max_depth=5, n_estimators=50;, score=0.808 total time=  34.7s\n",
            "[CV 2/3] END learning_rate=0.01, max_depth=5, n_estimators=50;, score=0.808 total time=  36.5s\n",
            "[CV 3/3] END learning_rate=0.01, max_depth=5, n_estimators=50;, score=0.799 total time=  34.8s\n",
            "[CV 1/3] END learning_rate=0.01, max_depth=5, n_estimators=100;, score=0.811 total time= 1.3min\n",
            "[CV 2/3] END learning_rate=0.01, max_depth=5, n_estimators=100;, score=0.810 total time= 1.2min\n",
            "[CV 3/3] END learning_rate=0.01, max_depth=5, n_estimators=100;, score=0.803 total time= 1.3min\n",
            "[CV 1/3] END learning_rate=0.01, max_depth=5, n_estimators=200;, score=0.812 total time= 2.6min\n",
            "[CV 2/3] END learning_rate=0.01, max_depth=5, n_estimators=200;, score=0.813 total time= 2.6min\n",
            "[CV 3/3] END learning_rate=0.01, max_depth=5, n_estimators=200;, score=0.805 total time= 2.7min\n",
            "[CV 1/3] END learning_rate=0.01, max_depth=7, n_estimators=50;, score=0.805 total time=  48.7s\n",
            "[CV 2/3] END learning_rate=0.01, max_depth=7, n_estimators=50;, score=0.807 total time=  49.7s\n",
            "[CV 3/3] END learning_rate=0.01, max_depth=7, n_estimators=50;, score=0.799 total time=  48.2s\n",
            "[CV 1/3] END learning_rate=0.01, max_depth=7, n_estimators=100;, score=0.808 total time= 1.8min\n",
            "[CV 2/3] END learning_rate=0.01, max_depth=7, n_estimators=100;, score=0.812 total time= 1.7min\n",
            "[CV 3/3] END learning_rate=0.01, max_depth=7, n_estimators=100;, score=0.803 total time= 1.7min\n",
            "[CV 1/3] END learning_rate=0.01, max_depth=7, n_estimators=200;, score=0.814 total time= 3.7min\n",
            "[CV 2/3] END learning_rate=0.01, max_depth=7, n_estimators=200;, score=0.814 total time= 3.7min\n",
            "[CV 3/3] END learning_rate=0.01, max_depth=7, n_estimators=200;, score=0.807 total time= 3.7min\n",
            "[CV 1/3] END learning_rate=0.1, max_depth=3, n_estimators=50;, score=0.812 total time=  21.0s\n",
            "[CV 2/3] END learning_rate=0.1, max_depth=3, n_estimators=50;, score=0.812 total time=  19.4s\n",
            "[CV 3/3] END learning_rate=0.1, max_depth=3, n_estimators=50;, score=0.805 total time=  21.0s\n",
            "[CV 1/3] END learning_rate=0.1, max_depth=3, n_estimators=100;, score=0.816 total time=  37.2s\n",
            "[CV 2/3] END learning_rate=0.1, max_depth=3, n_estimators=100;, score=0.817 total time=  39.1s\n",
            "[CV 3/3] END learning_rate=0.1, max_depth=3, n_estimators=100;, score=0.810 total time=  38.9s\n",
            "[CV 1/3] END learning_rate=0.1, max_depth=3, n_estimators=200;, score=0.819 total time= 1.2min\n",
            "[CV 2/3] END learning_rate=0.1, max_depth=3, n_estimators=200;, score=0.821 total time= 1.2min\n",
            "[CV 3/3] END learning_rate=0.1, max_depth=3, n_estimators=200;, score=0.814 total time= 1.2min\n",
            "[CV 1/3] END learning_rate=0.1, max_depth=5, n_estimators=50;, score=0.816 total time=  36.8s\n",
            "[CV 2/3] END learning_rate=0.1, max_depth=5, n_estimators=50;, score=0.817 total time=  37.4s\n",
            "[CV 3/3] END learning_rate=0.1, max_depth=5, n_estimators=50;, score=0.810 total time=  36.3s\n",
            "[CV 1/3] END learning_rate=0.1, max_depth=5, n_estimators=100;, score=0.819 total time= 1.1min\n",
            "[CV 2/3] END learning_rate=0.1, max_depth=5, n_estimators=100;, score=0.822 total time= 1.1min\n",
            "[CV 3/3] END learning_rate=0.1, max_depth=5, n_estimators=100;, score=0.813 total time= 1.1min\n",
            "[CV 1/3] END learning_rate=0.1, max_depth=5, n_estimators=200;, score=0.821 total time= 2.0min\n",
            "[CV 2/3] END learning_rate=0.1, max_depth=5, n_estimators=200;, score=0.821 total time= 2.0min\n",
            "[CV 3/3] END learning_rate=0.1, max_depth=5, n_estimators=200;, score=0.815 total time= 2.0min\n",
            "[CV 1/3] END learning_rate=0.1, max_depth=7, n_estimators=50;, score=0.818 total time=  52.4s\n",
            "[CV 2/3] END learning_rate=0.1, max_depth=7, n_estimators=50;, score=0.820 total time=  53.2s\n",
            "[CV 3/3] END learning_rate=0.1, max_depth=7, n_estimators=50;, score=0.813 total time=  52.7s\n",
            "[CV 1/3] END learning_rate=0.1, max_depth=7, n_estimators=100;, score=0.820 total time= 1.7min\n",
            "[CV 2/3] END learning_rate=0.1, max_depth=7, n_estimators=100;, score=0.821 total time= 1.7min\n",
            "[CV 3/3] END learning_rate=0.1, max_depth=7, n_estimators=100;, score=0.815 total time= 1.6min\n",
            "[CV 1/3] END learning_rate=0.1, max_depth=7, n_estimators=200;, score=0.820 total time= 3.0min\n",
            "[CV 2/3] END learning_rate=0.1, max_depth=7, n_estimators=200;, score=0.821 total time= 3.0min\n",
            "[CV 3/3] END learning_rate=0.1, max_depth=7, n_estimators=200;, score=0.814 total time= 2.9min\n",
            "[CV 1/3] END learning_rate=0.2, max_depth=3, n_estimators=50;, score=0.816 total time=  19.5s\n",
            "[CV 2/3] END learning_rate=0.2, max_depth=3, n_estimators=50;, score=0.817 total time=  18.4s\n",
            "[CV 3/3] END learning_rate=0.2, max_depth=3, n_estimators=50;, score=0.810 total time=  19.8s\n",
            "[CV 1/3] END learning_rate=0.2, max_depth=3, n_estimators=100;, score=0.819 total time=  34.8s\n",
            "[CV 2/3] END learning_rate=0.2, max_depth=3, n_estimators=100;, score=0.820 total time=  36.2s\n",
            "[CV 3/3] END learning_rate=0.2, max_depth=3, n_estimators=100;, score=0.814 total time=  34.3s\n",
            "[CV 1/3] END learning_rate=0.2, max_depth=3, n_estimators=200;, score=0.820 total time= 1.1min\n",
            "[CV 2/3] END learning_rate=0.2, max_depth=3, n_estimators=200;, score=0.821 total time= 1.1min\n",
            "[CV 3/3] END learning_rate=0.2, max_depth=3, n_estimators=200;, score=0.814 total time= 1.1min\n",
            "[CV 1/3] END learning_rate=0.2, max_depth=5, n_estimators=50;, score=0.820 total time=  33.9s\n",
            "[CV 2/3] END learning_rate=0.2, max_depth=5, n_estimators=50;, score=0.821 total time=  32.7s\n",
            "[CV 3/3] END learning_rate=0.2, max_depth=5, n_estimators=50;, score=0.813 total time=  33.3s\n",
            "[CV 1/3] END learning_rate=0.2, max_depth=5, n_estimators=100;, score=0.821 total time= 1.0min\n",
            "[CV 2/3] END learning_rate=0.2, max_depth=5, n_estimators=100;, score=0.821 total time=  59.8s\n",
            "[CV 3/3] END learning_rate=0.2, max_depth=5, n_estimators=100;, score=0.815 total time=  59.8s\n",
            "[CV 1/3] END learning_rate=0.2, max_depth=5, n_estimators=200;, score=0.819 total time= 1.8min\n",
            "[CV 2/3] END learning_rate=0.2, max_depth=5, n_estimators=200;, score=0.820 total time= 1.9min\n",
            "[CV 3/3] END learning_rate=0.2, max_depth=5, n_estimators=200;, score=0.813 total time= 1.8min\n",
            "[CV 1/3] END learning_rate=0.2, max_depth=7, n_estimators=50;, score=0.820 total time=  48.7s\n",
            "[CV 2/3] END learning_rate=0.2, max_depth=7, n_estimators=50;, score=0.821 total time=  48.5s\n",
            "[CV 3/3] END learning_rate=0.2, max_depth=7, n_estimators=50;, score=0.814 total time=  48.5s\n",
            "[CV 1/3] END learning_rate=0.2, max_depth=7, n_estimators=100;, score=0.820 total time= 1.5min\n",
            "[CV 2/3] END learning_rate=0.2, max_depth=7, n_estimators=100;, score=0.820 total time= 1.5min\n",
            "[CV 3/3] END learning_rate=0.2, max_depth=7, n_estimators=100;, score=0.814 total time= 1.4min\n",
            "[CV 1/3] END learning_rate=0.2, max_depth=7, n_estimators=200;, score=0.818 total time= 2.6min\n",
            "[CV 2/3] END learning_rate=0.2, max_depth=7, n_estimators=200;, score=0.819 total time= 2.6min\n",
            "[CV 3/3] END learning_rate=0.2, max_depth=7, n_estimators=200;, score=0.812 total time= 2.6min\n",
            "Best parameters for XGBoost: {'learning_rate': 0.1, 'max_depth': 5, 'n_estimators': 200}\n",
            "Best cross-validation accuracy for XGBoost: 0.8190238095238095\n"
          ]
        }
      ]
    },
    {
      "cell_type": "code",
      "source": [
        "import joblib\n",
        "joblib.dump(grid_xgb.best_estimator_, os.path.join(save_dir, 'xgb_best_model.pkl'))"
      ],
      "metadata": {
        "colab": {
          "base_uri": "https://localhost:8080/"
        },
        "id": "WWbGCGEWhM7t",
        "outputId": "3e35c40f-6f7f-4d36-a5c3-71df33aa9f11"
      },
      "execution_count": 22,
      "outputs": [
        {
          "output_type": "execute_result",
          "data": {
            "text/plain": [
              "['/content/drive/MyDrive/expense_categorization/xgb_best_model.pkl']"
            ]
          },
          "metadata": {},
          "execution_count": 22
        }
      ]
    },
    {
      "cell_type": "code",
      "source": [
        "import pickle\n",
        "with open(os.path.join(save_dir, 'label_mapping.pkl'), 'wb') as f:\n",
        "    pickle.dump(label_mapping, f)"
      ],
      "metadata": {
        "id": "syi3MB47hwW7"
      },
      "execution_count": 24,
      "outputs": []
    },
    {
      "cell_type": "code",
      "source": [
        "def predict_category(description, model_name, model_path, vectorizer_path, label_mapping_path):\n",
        "    # Load the model, vectorizer, and label mapping\n",
        "    model = joblib.load(model_path)\n",
        "    tfidf = joblib.load(vectorizer_path)\n",
        "    with open(label_mapping_path, 'rb') as f:\n",
        "        label_mapping = pickle.load(f)\n",
        "\n",
        "    # Clean and transform the description\n",
        "    clean_desc = clean_text(description)\n",
        "    desc_tfidf = tfidf.transform([clean_desc])\n",
        "\n",
        "    # Predict\n",
        "    predicted_label = model.predict(desc_tfidf)[0]\n",
        "    category = label_mapping[predicted_label]\n",
        "    return category\n",
        ""
      ],
      "metadata": {
        "id": "AS0JbNSF8jhB"
      },
      "execution_count": 25,
      "outputs": []
    },
    {
      "cell_type": "code",
      "source": [],
      "metadata": {
        "id": "vCsbeabmZNiw"
      },
      "execution_count": null,
      "outputs": []
    }
  ]
}